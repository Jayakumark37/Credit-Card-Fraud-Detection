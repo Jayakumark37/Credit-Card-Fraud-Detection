{
  "nbformat": 4,
  "nbformat_minor": 0,
  "metadata": {
    "colab": {
      "provenance": [],
      "authorship_tag": "ABX9TyM5IA7mE/rwh0UskaV6p55G",
      "include_colab_link": true
    },
    "kernelspec": {
      "name": "python3",
      "display_name": "Python 3"
    },
    "language_info": {
      "name": "python"
    }
  },
  "cells": [
    {
      "cell_type": "markdown",
      "metadata": {
        "id": "view-in-github",
        "colab_type": "text"
      },
      "source": [
        "<a href=\"https://colab.research.google.com/github/Jayakumark37/Credit-Card-Fraud-Detection/blob/main/Credit_Card_Fraud_Detection.ipynb\" target=\"_parent\"><img src=\"https://colab.research.google.com/assets/colab-badge.svg\" alt=\"Open In Colab\"/></a>"
      ]
    },
    {
      "cell_type": "code",
      "source": [
        "import pandas as pd\n",
        "import numpy as np\n",
        "import matplotlib.pyplot as plt\n",
        "import seaborn as sns\n",
        "# Step 1: Import required libraries\n",
        "from sklearn.preprocessing import StandardScaler\n",
        "from imblearn.over_sampling import SMOTE, ADASYN\n",
        "# Optional for timing features\n",
        "import datetime"
      ],
      "metadata": {
        "id": "LbEcD9sf4P2z"
      },
      "execution_count": 2,
      "outputs": []
    },
    {
      "cell_type": "code",
      "execution_count": 3,
      "metadata": {
        "colab": {
          "base_uri": "https://localhost:8080/",
          "height": 423
        },
        "id": "02gAPOa92488",
        "outputId": "6e9f5507-1ea8-49e8-9ea7-7455df8c318d"
      },
      "outputs": [
        {
          "output_type": "execute_result",
          "data": {
            "text/plain": [
              "        Time        V1        V2        V3        V4        V5        V6  \\\n",
              "0          0 -1.359807 -0.072781  2.536347  1.378155 -0.338321  0.462388   \n",
              "1          0  1.191857  0.266151  0.166480  0.448154  0.060018 -0.082361   \n",
              "2          1 -1.358354 -1.340163  1.773209  0.379780 -0.503198  1.800499   \n",
              "3          1 -0.966272 -0.185226  1.792993 -0.863291 -0.010309  1.247203   \n",
              "4          2 -1.158233  0.877737  1.548718  0.403034 -0.407193  0.095921   \n",
              "...      ...       ...       ...       ...       ...       ...       ...   \n",
              "31775  36510  1.497714 -0.874208  0.004261 -1.537368 -1.044513 -0.733905   \n",
              "31776  36512 -0.407854  0.940336  1.533733 -0.018123 -0.219400 -0.934602   \n",
              "31777  36513 -0.434226 -3.705556  0.194223  0.139216 -2.066818  1.220137   \n",
              "31778  36513 -0.274278  1.004565  1.336430 -0.164777  0.404935 -0.418731   \n",
              "31779  36513  1.295137  0.096775  0.348134  0.629896 -0.172700 -0.154350   \n",
              "\n",
              "             V7        V8        V9  ...       V21       V22       V23  \\\n",
              "0      0.239599  0.098698  0.363787  ... -0.018307  0.277838 -0.110474   \n",
              "1     -0.078803  0.085102 -0.255425  ... -0.225775 -0.638672  0.101288   \n",
              "2      0.791461  0.247676 -1.514654  ...  0.247998  0.771679  0.909412   \n",
              "3      0.237609  0.377436 -1.387024  ... -0.108300  0.005274 -0.190321   \n",
              "4      0.592941 -0.270533  0.817739  ... -0.009431  0.798278 -0.137458   \n",
              "...         ...       ...       ...  ...       ...       ...       ...   \n",
              "31775 -0.644635 -0.186510 -2.380495  ... -0.527761 -1.248016  0.145825   \n",
              "31776  0.597172  0.024610 -0.151850  ... -0.247570 -0.725830 -0.006221   \n",
              "31777 -0.278115  0.281452 -0.161302  ...  0.620431  0.040315 -0.690176   \n",
              "31778  0.853252 -0.148772 -0.546969  ... -0.277437 -0.579135 -0.097793   \n",
              "31779       NaN       NaN       NaN  ...       NaN       NaN       NaN   \n",
              "\n",
              "            V24       V25       V26       V27       V28  Amount  Class  \n",
              "0      0.066928  0.128539 -0.189115  0.133558 -0.021053  149.62    0.0  \n",
              "1     -0.339846  0.167170  0.125895 -0.008983  0.014724    2.69    0.0  \n",
              "2     -0.689281 -0.327642 -0.139097 -0.055353 -0.059752  378.66    0.0  \n",
              "3     -1.175575  0.647376 -0.221929  0.062723  0.061458  123.50    0.0  \n",
              "4      0.141267 -0.206010  0.502292  0.219422  0.215153   69.99    0.0  \n",
              "...         ...       ...       ...       ...       ...     ...    ...  \n",
              "31775 -0.061193  0.250252 -0.526898  0.003761  0.007950   24.90    0.0  \n",
              "31776  0.322366 -0.249413  0.076587  0.255380  0.117340    1.79    0.0  \n",
              "31777 -0.226844 -0.123369 -0.291412 -0.080514  0.155457  861.12    0.0  \n",
              "31778 -0.037926 -0.157882  0.044814  0.078376 -0.137035    9.72    0.0  \n",
              "31779       NaN       NaN       NaN       NaN       NaN     NaN    NaN  \n",
              "\n",
              "[31780 rows x 31 columns]"
            ],
            "text/html": [
              "\n",
              "  <div id=\"df-dc374600-feb4-455a-8f43-fa53788db286\" class=\"colab-df-container\">\n",
              "    <div>\n",
              "<style scoped>\n",
              "    .dataframe tbody tr th:only-of-type {\n",
              "        vertical-align: middle;\n",
              "    }\n",
              "\n",
              "    .dataframe tbody tr th {\n",
              "        vertical-align: top;\n",
              "    }\n",
              "\n",
              "    .dataframe thead th {\n",
              "        text-align: right;\n",
              "    }\n",
              "</style>\n",
              "<table border=\"1\" class=\"dataframe\">\n",
              "  <thead>\n",
              "    <tr style=\"text-align: right;\">\n",
              "      <th></th>\n",
              "      <th>Time</th>\n",
              "      <th>V1</th>\n",
              "      <th>V2</th>\n",
              "      <th>V3</th>\n",
              "      <th>V4</th>\n",
              "      <th>V5</th>\n",
              "      <th>V6</th>\n",
              "      <th>V7</th>\n",
              "      <th>V8</th>\n",
              "      <th>V9</th>\n",
              "      <th>...</th>\n",
              "      <th>V21</th>\n",
              "      <th>V22</th>\n",
              "      <th>V23</th>\n",
              "      <th>V24</th>\n",
              "      <th>V25</th>\n",
              "      <th>V26</th>\n",
              "      <th>V27</th>\n",
              "      <th>V28</th>\n",
              "      <th>Amount</th>\n",
              "      <th>Class</th>\n",
              "    </tr>\n",
              "  </thead>\n",
              "  <tbody>\n",
              "    <tr>\n",
              "      <th>0</th>\n",
              "      <td>0</td>\n",
              "      <td>-1.359807</td>\n",
              "      <td>-0.072781</td>\n",
              "      <td>2.536347</td>\n",
              "      <td>1.378155</td>\n",
              "      <td>-0.338321</td>\n",
              "      <td>0.462388</td>\n",
              "      <td>0.239599</td>\n",
              "      <td>0.098698</td>\n",
              "      <td>0.363787</td>\n",
              "      <td>...</td>\n",
              "      <td>-0.018307</td>\n",
              "      <td>0.277838</td>\n",
              "      <td>-0.110474</td>\n",
              "      <td>0.066928</td>\n",
              "      <td>0.128539</td>\n",
              "      <td>-0.189115</td>\n",
              "      <td>0.133558</td>\n",
              "      <td>-0.021053</td>\n",
              "      <td>149.62</td>\n",
              "      <td>0.0</td>\n",
              "    </tr>\n",
              "    <tr>\n",
              "      <th>1</th>\n",
              "      <td>0</td>\n",
              "      <td>1.191857</td>\n",
              "      <td>0.266151</td>\n",
              "      <td>0.166480</td>\n",
              "      <td>0.448154</td>\n",
              "      <td>0.060018</td>\n",
              "      <td>-0.082361</td>\n",
              "      <td>-0.078803</td>\n",
              "      <td>0.085102</td>\n",
              "      <td>-0.255425</td>\n",
              "      <td>...</td>\n",
              "      <td>-0.225775</td>\n",
              "      <td>-0.638672</td>\n",
              "      <td>0.101288</td>\n",
              "      <td>-0.339846</td>\n",
              "      <td>0.167170</td>\n",
              "      <td>0.125895</td>\n",
              "      <td>-0.008983</td>\n",
              "      <td>0.014724</td>\n",
              "      <td>2.69</td>\n",
              "      <td>0.0</td>\n",
              "    </tr>\n",
              "    <tr>\n",
              "      <th>2</th>\n",
              "      <td>1</td>\n",
              "      <td>-1.358354</td>\n",
              "      <td>-1.340163</td>\n",
              "      <td>1.773209</td>\n",
              "      <td>0.379780</td>\n",
              "      <td>-0.503198</td>\n",
              "      <td>1.800499</td>\n",
              "      <td>0.791461</td>\n",
              "      <td>0.247676</td>\n",
              "      <td>-1.514654</td>\n",
              "      <td>...</td>\n",
              "      <td>0.247998</td>\n",
              "      <td>0.771679</td>\n",
              "      <td>0.909412</td>\n",
              "      <td>-0.689281</td>\n",
              "      <td>-0.327642</td>\n",
              "      <td>-0.139097</td>\n",
              "      <td>-0.055353</td>\n",
              "      <td>-0.059752</td>\n",
              "      <td>378.66</td>\n",
              "      <td>0.0</td>\n",
              "    </tr>\n",
              "    <tr>\n",
              "      <th>3</th>\n",
              "      <td>1</td>\n",
              "      <td>-0.966272</td>\n",
              "      <td>-0.185226</td>\n",
              "      <td>1.792993</td>\n",
              "      <td>-0.863291</td>\n",
              "      <td>-0.010309</td>\n",
              "      <td>1.247203</td>\n",
              "      <td>0.237609</td>\n",
              "      <td>0.377436</td>\n",
              "      <td>-1.387024</td>\n",
              "      <td>...</td>\n",
              "      <td>-0.108300</td>\n",
              "      <td>0.005274</td>\n",
              "      <td>-0.190321</td>\n",
              "      <td>-1.175575</td>\n",
              "      <td>0.647376</td>\n",
              "      <td>-0.221929</td>\n",
              "      <td>0.062723</td>\n",
              "      <td>0.061458</td>\n",
              "      <td>123.50</td>\n",
              "      <td>0.0</td>\n",
              "    </tr>\n",
              "    <tr>\n",
              "      <th>4</th>\n",
              "      <td>2</td>\n",
              "      <td>-1.158233</td>\n",
              "      <td>0.877737</td>\n",
              "      <td>1.548718</td>\n",
              "      <td>0.403034</td>\n",
              "      <td>-0.407193</td>\n",
              "      <td>0.095921</td>\n",
              "      <td>0.592941</td>\n",
              "      <td>-0.270533</td>\n",
              "      <td>0.817739</td>\n",
              "      <td>...</td>\n",
              "      <td>-0.009431</td>\n",
              "      <td>0.798278</td>\n",
              "      <td>-0.137458</td>\n",
              "      <td>0.141267</td>\n",
              "      <td>-0.206010</td>\n",
              "      <td>0.502292</td>\n",
              "      <td>0.219422</td>\n",
              "      <td>0.215153</td>\n",
              "      <td>69.99</td>\n",
              "      <td>0.0</td>\n",
              "    </tr>\n",
              "    <tr>\n",
              "      <th>...</th>\n",
              "      <td>...</td>\n",
              "      <td>...</td>\n",
              "      <td>...</td>\n",
              "      <td>...</td>\n",
              "      <td>...</td>\n",
              "      <td>...</td>\n",
              "      <td>...</td>\n",
              "      <td>...</td>\n",
              "      <td>...</td>\n",
              "      <td>...</td>\n",
              "      <td>...</td>\n",
              "      <td>...</td>\n",
              "      <td>...</td>\n",
              "      <td>...</td>\n",
              "      <td>...</td>\n",
              "      <td>...</td>\n",
              "      <td>...</td>\n",
              "      <td>...</td>\n",
              "      <td>...</td>\n",
              "      <td>...</td>\n",
              "      <td>...</td>\n",
              "    </tr>\n",
              "    <tr>\n",
              "      <th>31775</th>\n",
              "      <td>36510</td>\n",
              "      <td>1.497714</td>\n",
              "      <td>-0.874208</td>\n",
              "      <td>0.004261</td>\n",
              "      <td>-1.537368</td>\n",
              "      <td>-1.044513</td>\n",
              "      <td>-0.733905</td>\n",
              "      <td>-0.644635</td>\n",
              "      <td>-0.186510</td>\n",
              "      <td>-2.380495</td>\n",
              "      <td>...</td>\n",
              "      <td>-0.527761</td>\n",
              "      <td>-1.248016</td>\n",
              "      <td>0.145825</td>\n",
              "      <td>-0.061193</td>\n",
              "      <td>0.250252</td>\n",
              "      <td>-0.526898</td>\n",
              "      <td>0.003761</td>\n",
              "      <td>0.007950</td>\n",
              "      <td>24.90</td>\n",
              "      <td>0.0</td>\n",
              "    </tr>\n",
              "    <tr>\n",
              "      <th>31776</th>\n",
              "      <td>36512</td>\n",
              "      <td>-0.407854</td>\n",
              "      <td>0.940336</td>\n",
              "      <td>1.533733</td>\n",
              "      <td>-0.018123</td>\n",
              "      <td>-0.219400</td>\n",
              "      <td>-0.934602</td>\n",
              "      <td>0.597172</td>\n",
              "      <td>0.024610</td>\n",
              "      <td>-0.151850</td>\n",
              "      <td>...</td>\n",
              "      <td>-0.247570</td>\n",
              "      <td>-0.725830</td>\n",
              "      <td>-0.006221</td>\n",
              "      <td>0.322366</td>\n",
              "      <td>-0.249413</td>\n",
              "      <td>0.076587</td>\n",
              "      <td>0.255380</td>\n",
              "      <td>0.117340</td>\n",
              "      <td>1.79</td>\n",
              "      <td>0.0</td>\n",
              "    </tr>\n",
              "    <tr>\n",
              "      <th>31777</th>\n",
              "      <td>36513</td>\n",
              "      <td>-0.434226</td>\n",
              "      <td>-3.705556</td>\n",
              "      <td>0.194223</td>\n",
              "      <td>0.139216</td>\n",
              "      <td>-2.066818</td>\n",
              "      <td>1.220137</td>\n",
              "      <td>-0.278115</td>\n",
              "      <td>0.281452</td>\n",
              "      <td>-0.161302</td>\n",
              "      <td>...</td>\n",
              "      <td>0.620431</td>\n",
              "      <td>0.040315</td>\n",
              "      <td>-0.690176</td>\n",
              "      <td>-0.226844</td>\n",
              "      <td>-0.123369</td>\n",
              "      <td>-0.291412</td>\n",
              "      <td>-0.080514</td>\n",
              "      <td>0.155457</td>\n",
              "      <td>861.12</td>\n",
              "      <td>0.0</td>\n",
              "    </tr>\n",
              "    <tr>\n",
              "      <th>31778</th>\n",
              "      <td>36513</td>\n",
              "      <td>-0.274278</td>\n",
              "      <td>1.004565</td>\n",
              "      <td>1.336430</td>\n",
              "      <td>-0.164777</td>\n",
              "      <td>0.404935</td>\n",
              "      <td>-0.418731</td>\n",
              "      <td>0.853252</td>\n",
              "      <td>-0.148772</td>\n",
              "      <td>-0.546969</td>\n",
              "      <td>...</td>\n",
              "      <td>-0.277437</td>\n",
              "      <td>-0.579135</td>\n",
              "      <td>-0.097793</td>\n",
              "      <td>-0.037926</td>\n",
              "      <td>-0.157882</td>\n",
              "      <td>0.044814</td>\n",
              "      <td>0.078376</td>\n",
              "      <td>-0.137035</td>\n",
              "      <td>9.72</td>\n",
              "      <td>0.0</td>\n",
              "    </tr>\n",
              "    <tr>\n",
              "      <th>31779</th>\n",
              "      <td>36513</td>\n",
              "      <td>1.295137</td>\n",
              "      <td>0.096775</td>\n",
              "      <td>0.348134</td>\n",
              "      <td>0.629896</td>\n",
              "      <td>-0.172700</td>\n",
              "      <td>-0.154350</td>\n",
              "      <td>NaN</td>\n",
              "      <td>NaN</td>\n",
              "      <td>NaN</td>\n",
              "      <td>...</td>\n",
              "      <td>NaN</td>\n",
              "      <td>NaN</td>\n",
              "      <td>NaN</td>\n",
              "      <td>NaN</td>\n",
              "      <td>NaN</td>\n",
              "      <td>NaN</td>\n",
              "      <td>NaN</td>\n",
              "      <td>NaN</td>\n",
              "      <td>NaN</td>\n",
              "      <td>NaN</td>\n",
              "    </tr>\n",
              "  </tbody>\n",
              "</table>\n",
              "<p>31780 rows × 31 columns</p>\n",
              "</div>\n",
              "    <div class=\"colab-df-buttons\">\n",
              "\n",
              "  <div class=\"colab-df-container\">\n",
              "    <button class=\"colab-df-convert\" onclick=\"convertToInteractive('df-dc374600-feb4-455a-8f43-fa53788db286')\"\n",
              "            title=\"Convert this dataframe to an interactive table.\"\n",
              "            style=\"display:none;\">\n",
              "\n",
              "  <svg xmlns=\"http://www.w3.org/2000/svg\" height=\"24px\" viewBox=\"0 -960 960 960\">\n",
              "    <path d=\"M120-120v-720h720v720H120Zm60-500h600v-160H180v160Zm220 220h160v-160H400v160Zm0 220h160v-160H400v160ZM180-400h160v-160H180v160Zm440 0h160v-160H620v160ZM180-180h160v-160H180v160Zm440 0h160v-160H620v160Z\"/>\n",
              "  </svg>\n",
              "    </button>\n",
              "\n",
              "  <style>\n",
              "    .colab-df-container {\n",
              "      display:flex;\n",
              "      gap: 12px;\n",
              "    }\n",
              "\n",
              "    .colab-df-convert {\n",
              "      background-color: #E8F0FE;\n",
              "      border: none;\n",
              "      border-radius: 50%;\n",
              "      cursor: pointer;\n",
              "      display: none;\n",
              "      fill: #1967D2;\n",
              "      height: 32px;\n",
              "      padding: 0 0 0 0;\n",
              "      width: 32px;\n",
              "    }\n",
              "\n",
              "    .colab-df-convert:hover {\n",
              "      background-color: #E2EBFA;\n",
              "      box-shadow: 0px 1px 2px rgba(60, 64, 67, 0.3), 0px 1px 3px 1px rgba(60, 64, 67, 0.15);\n",
              "      fill: #174EA6;\n",
              "    }\n",
              "\n",
              "    .colab-df-buttons div {\n",
              "      margin-bottom: 4px;\n",
              "    }\n",
              "\n",
              "    [theme=dark] .colab-df-convert {\n",
              "      background-color: #3B4455;\n",
              "      fill: #D2E3FC;\n",
              "    }\n",
              "\n",
              "    [theme=dark] .colab-df-convert:hover {\n",
              "      background-color: #434B5C;\n",
              "      box-shadow: 0px 1px 3px 1px rgba(0, 0, 0, 0.15);\n",
              "      filter: drop-shadow(0px 1px 2px rgba(0, 0, 0, 0.3));\n",
              "      fill: #FFFFFF;\n",
              "    }\n",
              "  </style>\n",
              "\n",
              "    <script>\n",
              "      const buttonEl =\n",
              "        document.querySelector('#df-dc374600-feb4-455a-8f43-fa53788db286 button.colab-df-convert');\n",
              "      buttonEl.style.display =\n",
              "        google.colab.kernel.accessAllowed ? 'block' : 'none';\n",
              "\n",
              "      async function convertToInteractive(key) {\n",
              "        const element = document.querySelector('#df-dc374600-feb4-455a-8f43-fa53788db286');\n",
              "        const dataTable =\n",
              "          await google.colab.kernel.invokeFunction('convertToInteractive',\n",
              "                                                    [key], {});\n",
              "        if (!dataTable) return;\n",
              "\n",
              "        const docLinkHtml = 'Like what you see? Visit the ' +\n",
              "          '<a target=\"_blank\" href=https://colab.research.google.com/notebooks/data_table.ipynb>data table notebook</a>'\n",
              "          + ' to learn more about interactive tables.';\n",
              "        element.innerHTML = '';\n",
              "        dataTable['output_type'] = 'display_data';\n",
              "        await google.colab.output.renderOutput(dataTable, element);\n",
              "        const docLink = document.createElement('div');\n",
              "        docLink.innerHTML = docLinkHtml;\n",
              "        element.appendChild(docLink);\n",
              "      }\n",
              "    </script>\n",
              "  </div>\n",
              "\n",
              "\n",
              "<div id=\"df-9bd2c045-e94c-4bad-85e0-dc930a0fa6b4\">\n",
              "  <button class=\"colab-df-quickchart\" onclick=\"quickchart('df-9bd2c045-e94c-4bad-85e0-dc930a0fa6b4')\"\n",
              "            title=\"Suggest charts\"\n",
              "            style=\"display:none;\">\n",
              "\n",
              "<svg xmlns=\"http://www.w3.org/2000/svg\" height=\"24px\"viewBox=\"0 0 24 24\"\n",
              "     width=\"24px\">\n",
              "    <g>\n",
              "        <path d=\"M19 3H5c-1.1 0-2 .9-2 2v14c0 1.1.9 2 2 2h14c1.1 0 2-.9 2-2V5c0-1.1-.9-2-2-2zM9 17H7v-7h2v7zm4 0h-2V7h2v10zm4 0h-2v-4h2v4z\"/>\n",
              "    </g>\n",
              "</svg>\n",
              "  </button>\n",
              "\n",
              "<style>\n",
              "  .colab-df-quickchart {\n",
              "      --bg-color: #E8F0FE;\n",
              "      --fill-color: #1967D2;\n",
              "      --hover-bg-color: #E2EBFA;\n",
              "      --hover-fill-color: #174EA6;\n",
              "      --disabled-fill-color: #AAA;\n",
              "      --disabled-bg-color: #DDD;\n",
              "  }\n",
              "\n",
              "  [theme=dark] .colab-df-quickchart {\n",
              "      --bg-color: #3B4455;\n",
              "      --fill-color: #D2E3FC;\n",
              "      --hover-bg-color: #434B5C;\n",
              "      --hover-fill-color: #FFFFFF;\n",
              "      --disabled-bg-color: #3B4455;\n",
              "      --disabled-fill-color: #666;\n",
              "  }\n",
              "\n",
              "  .colab-df-quickchart {\n",
              "    background-color: var(--bg-color);\n",
              "    border: none;\n",
              "    border-radius: 50%;\n",
              "    cursor: pointer;\n",
              "    display: none;\n",
              "    fill: var(--fill-color);\n",
              "    height: 32px;\n",
              "    padding: 0;\n",
              "    width: 32px;\n",
              "  }\n",
              "\n",
              "  .colab-df-quickchart:hover {\n",
              "    background-color: var(--hover-bg-color);\n",
              "    box-shadow: 0 1px 2px rgba(60, 64, 67, 0.3), 0 1px 3px 1px rgba(60, 64, 67, 0.15);\n",
              "    fill: var(--button-hover-fill-color);\n",
              "  }\n",
              "\n",
              "  .colab-df-quickchart-complete:disabled,\n",
              "  .colab-df-quickchart-complete:disabled:hover {\n",
              "    background-color: var(--disabled-bg-color);\n",
              "    fill: var(--disabled-fill-color);\n",
              "    box-shadow: none;\n",
              "  }\n",
              "\n",
              "  .colab-df-spinner {\n",
              "    border: 2px solid var(--fill-color);\n",
              "    border-color: transparent;\n",
              "    border-bottom-color: var(--fill-color);\n",
              "    animation:\n",
              "      spin 1s steps(1) infinite;\n",
              "  }\n",
              "\n",
              "  @keyframes spin {\n",
              "    0% {\n",
              "      border-color: transparent;\n",
              "      border-bottom-color: var(--fill-color);\n",
              "      border-left-color: var(--fill-color);\n",
              "    }\n",
              "    20% {\n",
              "      border-color: transparent;\n",
              "      border-left-color: var(--fill-color);\n",
              "      border-top-color: var(--fill-color);\n",
              "    }\n",
              "    30% {\n",
              "      border-color: transparent;\n",
              "      border-left-color: var(--fill-color);\n",
              "      border-top-color: var(--fill-color);\n",
              "      border-right-color: var(--fill-color);\n",
              "    }\n",
              "    40% {\n",
              "      border-color: transparent;\n",
              "      border-right-color: var(--fill-color);\n",
              "      border-top-color: var(--fill-color);\n",
              "    }\n",
              "    60% {\n",
              "      border-color: transparent;\n",
              "      border-right-color: var(--fill-color);\n",
              "    }\n",
              "    80% {\n",
              "      border-color: transparent;\n",
              "      border-right-color: var(--fill-color);\n",
              "      border-bottom-color: var(--fill-color);\n",
              "    }\n",
              "    90% {\n",
              "      border-color: transparent;\n",
              "      border-bottom-color: var(--fill-color);\n",
              "    }\n",
              "  }\n",
              "</style>\n",
              "\n",
              "  <script>\n",
              "    async function quickchart(key) {\n",
              "      const quickchartButtonEl =\n",
              "        document.querySelector('#' + key + ' button');\n",
              "      quickchartButtonEl.disabled = true;  // To prevent multiple clicks.\n",
              "      quickchartButtonEl.classList.add('colab-df-spinner');\n",
              "      try {\n",
              "        const charts = await google.colab.kernel.invokeFunction(\n",
              "            'suggestCharts', [key], {});\n",
              "      } catch (error) {\n",
              "        console.error('Error during call to suggestCharts:', error);\n",
              "      }\n",
              "      quickchartButtonEl.classList.remove('colab-df-spinner');\n",
              "      quickchartButtonEl.classList.add('colab-df-quickchart-complete');\n",
              "    }\n",
              "    (() => {\n",
              "      let quickchartButtonEl =\n",
              "        document.querySelector('#df-9bd2c045-e94c-4bad-85e0-dc930a0fa6b4 button');\n",
              "      quickchartButtonEl.style.display =\n",
              "        google.colab.kernel.accessAllowed ? 'block' : 'none';\n",
              "    })();\n",
              "  </script>\n",
              "</div>\n",
              "\n",
              "  <div id=\"id_0282c237-e5e7-4872-acd2-bd258ddcf326\">\n",
              "    <style>\n",
              "      .colab-df-generate {\n",
              "        background-color: #E8F0FE;\n",
              "        border: none;\n",
              "        border-radius: 50%;\n",
              "        cursor: pointer;\n",
              "        display: none;\n",
              "        fill: #1967D2;\n",
              "        height: 32px;\n",
              "        padding: 0 0 0 0;\n",
              "        width: 32px;\n",
              "      }\n",
              "\n",
              "      .colab-df-generate:hover {\n",
              "        background-color: #E2EBFA;\n",
              "        box-shadow: 0px 1px 2px rgba(60, 64, 67, 0.3), 0px 1px 3px 1px rgba(60, 64, 67, 0.15);\n",
              "        fill: #174EA6;\n",
              "      }\n",
              "\n",
              "      [theme=dark] .colab-df-generate {\n",
              "        background-color: #3B4455;\n",
              "        fill: #D2E3FC;\n",
              "      }\n",
              "\n",
              "      [theme=dark] .colab-df-generate:hover {\n",
              "        background-color: #434B5C;\n",
              "        box-shadow: 0px 1px 3px 1px rgba(0, 0, 0, 0.15);\n",
              "        filter: drop-shadow(0px 1px 2px rgba(0, 0, 0, 0.3));\n",
              "        fill: #FFFFFF;\n",
              "      }\n",
              "    </style>\n",
              "    <button class=\"colab-df-generate\" onclick=\"generateWithVariable('df')\"\n",
              "            title=\"Generate code using this dataframe.\"\n",
              "            style=\"display:none;\">\n",
              "\n",
              "  <svg xmlns=\"http://www.w3.org/2000/svg\" height=\"24px\"viewBox=\"0 0 24 24\"\n",
              "       width=\"24px\">\n",
              "    <path d=\"M7,19H8.4L18.45,9,17,7.55,7,17.6ZM5,21V16.75L18.45,3.32a2,2,0,0,1,2.83,0l1.4,1.43a1.91,1.91,0,0,1,.58,1.4,1.91,1.91,0,0,1-.58,1.4L9.25,21ZM18.45,9,17,7.55Zm-12,3A5.31,5.31,0,0,0,4.9,8.1,5.31,5.31,0,0,0,1,6.5,5.31,5.31,0,0,0,4.9,4.9,5.31,5.31,0,0,0,6.5,1,5.31,5.31,0,0,0,8.1,4.9,5.31,5.31,0,0,0,12,6.5,5.46,5.46,0,0,0,6.5,12Z\"/>\n",
              "  </svg>\n",
              "    </button>\n",
              "    <script>\n",
              "      (() => {\n",
              "      const buttonEl =\n",
              "        document.querySelector('#id_0282c237-e5e7-4872-acd2-bd258ddcf326 button.colab-df-generate');\n",
              "      buttonEl.style.display =\n",
              "        google.colab.kernel.accessAllowed ? 'block' : 'none';\n",
              "\n",
              "      buttonEl.onclick = () => {\n",
              "        google.colab.notebook.generateWithVariable('df');\n",
              "      }\n",
              "      })();\n",
              "    </script>\n",
              "  </div>\n",
              "\n",
              "    </div>\n",
              "  </div>\n"
            ],
            "application/vnd.google.colaboratory.intrinsic+json": {
              "type": "dataframe",
              "variable_name": "df"
            }
          },
          "metadata": {},
          "execution_count": 3
        }
      ],
      "source": [
        "## Read the dataset: 'creditcard.csv'\n",
        "df = pd.read_csv(\"/content/creditcard.csv\")\n",
        "df"
      ]
    },
    {
      "cell_type": "markdown",
      "source": [
        "🔍 Check class balance"
      ],
      "metadata": {
        "id": "TwCIiAjlFVr-"
      }
    },
    {
      "cell_type": "code",
      "source": [
        "# Class distribution\n",
        "class_counts = df['Class'].value_counts()\n",
        "print(class_counts)\n",
        "\n",
        "# Plot class distribution\n",
        "plt.figure(figsize=(6,4))\n",
        "sns.countplot(data=df, x='Class', palette=['green', 'red'])\n",
        "plt.title('Transaction Class Distribution (0: Legit, 1: Fraud)')\n",
        "plt.show()\n",
        "\n",
        "# Check imbalance percentage\n",
        "fraud_percentage = (class_counts[1] / class_counts.sum()) * 100\n",
        "print(f\"Fraud Percentage: {fraud_percentage:.4f}%\")\n"
      ],
      "metadata": {
        "colab": {
          "base_uri": "https://localhost:8080/",
          "height": 594
        },
        "id": "ODpC0QORE-BQ",
        "outputId": "1978cfbd-396d-4714-ade8-aecc5cd87073"
      },
      "execution_count": 4,
      "outputs": [
        {
          "output_type": "stream",
          "name": "stdout",
          "text": [
            "Class\n",
            "0.0    31677\n",
            "1.0      102\n",
            "Name: count, dtype: int64\n"
          ]
        },
        {
          "output_type": "stream",
          "name": "stderr",
          "text": [
            "<ipython-input-4-b3d7a0081f17>:7: FutureWarning: \n",
            "\n",
            "Passing `palette` without assigning `hue` is deprecated and will be removed in v0.14.0. Assign the `x` variable to `hue` and set `legend=False` for the same effect.\n",
            "\n",
            "  sns.countplot(data=df, x='Class', palette=['green', 'red'])\n"
          ]
        },
        {
          "output_type": "display_data",
          "data": {
            "text/plain": [
              "<Figure size 600x400 with 1 Axes>"
            ],
            "image/png": "[encoded data removed]"
          },
          "metadata": {}
        },
        {
          "output_type": "stream",
          "name": "stdout",
          "text": [
            "Fraud Percentage: 0.3210%\n"
          ]
        }
      ]
    },
    {
      "cell_type": "code",
      "source": [
        "# Missing values\n",
        "missing_values = df.isnull().sum()\n",
        "print(\"Missing values per column:\\n\", missing_values[missing_values > 0])"
      ],
      "metadata": {
        "colab": {
          "base_uri": "https://localhost:8080/"
        },
        "id": "5V42zvSaFSLS",
        "outputId": "78e7b22d-1155-4dba-e314-111634d4b6ee"
      },
      "execution_count": 5,
      "outputs": [
        {
          "output_type": "stream",
          "name": "stdout",
          "text": [
            "Missing values per column:\n",
            " V7        1\n",
            "V8        1\n",
            "V9        1\n",
            "V10       1\n",
            "V11       1\n",
            "V12       1\n",
            "V13       1\n",
            "V14       1\n",
            "V15       1\n",
            "V16       1\n",
            "V17       1\n",
            "V18       1\n",
            "V19       1\n",
            "V20       1\n",
            "V21       1\n",
            "V22       1\n",
            "V23       1\n",
            "V24       1\n",
            "V25       1\n",
            "V26       1\n",
            "V27       1\n",
            "V28       1\n",
            "Amount    1\n",
            "Class     1\n",
            "dtype: int64\n"
          ]
        }
      ]
    },
    {
      "cell_type": "code",
      "source": [
        "df.fillna(0, inplace=True)"
      ],
      "metadata": {
        "id": "S5mLQHYQGIQ5"
      },
      "execution_count": 6,
      "outputs": []
    },
    {
      "cell_type": "code",
      "source": [
        "# Missing values\n",
        "missing_values = df.isnull().sum()\n",
        "print(\"Missing values per column:\\n\", missing_values[missing_values > 0])\n",
        "\n",
        "# Data types\n",
        "print(\"\\nData types:\\n\", df.dtypes)"
      ],
      "metadata": {
        "colab": {
          "base_uri": "https://localhost:8080/"
        },
        "id": "6CVbKB_4GMCw",
        "outputId": "080331ea-8a15-49e6-e98e-43cff105f226"
      },
      "execution_count": 7,
      "outputs": [
        {
          "output_type": "stream",
          "name": "stdout",
          "text": [
            "Missing values per column:\n",
            " Series([], dtype: int64)\n",
            "\n",
            "Data types:\n",
            " Time        int64\n",
            "V1        float64\n",
            "V2        float64\n",
            "V3        float64\n",
            "V4        float64\n",
            "V5        float64\n",
            "V6        float64\n",
            "V7        float64\n",
            "V8        float64\n",
            "V9        float64\n",
            "V10       float64\n",
            "V11       float64\n",
            "V12       float64\n",
            "V13       float64\n",
            "V14       float64\n",
            "V15       float64\n",
            "V16       float64\n",
            "V17       float64\n",
            "V18       float64\n",
            "V19       float64\n",
            "V20       float64\n",
            "V21       float64\n",
            "V22       float64\n",
            "V23       float64\n",
            "V24       float64\n",
            "V25       float64\n",
            "V26       float64\n",
            "V27       float64\n",
            "V28       float64\n",
            "Amount    float64\n",
            "Class     float64\n",
            "dtype: object\n"
          ]
        }
      ]
    },
    {
      "cell_type": "markdown",
      "source": [
        "💸 Plot transaction amount vs class"
      ],
      "metadata": {
        "id": "rMjLFkh1I8Ro"
      }
    },
    {
      "cell_type": "code",
      "source": [
        "# Compare distribution of Amount for Legit vs Fraud\n",
        "plt.figure(figsize=(10, 5))\n",
        "\n",
        "# Legit transactions\n",
        "sns.histplot(df[df.Class == 0]['Amount'], bins=100, color='blue', label='Legit', stat='density')\n",
        "# Fraud transactions\n",
        "sns.histplot(df[df.Class == 1]['Amount'], bins=100, color='red', label='Fraud', stat='density')\n",
        "\n",
        "plt.legend()\n",
        "plt.title('Transaction Amount Distribution: Legit vs Fraud')\n",
        "plt.xlabel('Amount')\n",
        "plt.ylabel('Density')\n",
        "plt.xlim(0, 500)  # Zoom in for better clarity\n",
        "plt.show()\n"
      ],
      "metadata": {
        "colab": {
          "base_uri": "https://localhost:8080/",
          "height": 487
        },
        "id": "_w-tHvgLGRUy",
        "outputId": "488851e1-36f2-47d6-834c-7a1a0580ef2c"
      },
      "execution_count": 8,
      "outputs": [
        {
          "output_type": "display_data",
          "data": {
            "text/plain": [
              "<Figure size 1000x500 with 1 Axes>"
            ],
            "image/png": "[encoded data removed]"
          },
          "metadata": {}
        }
      ]
    },
    {
      "cell_type": "markdown",
      "source": [
        "🔗 Correlation heatmap for V1–V28"
      ],
      "metadata": {
        "id": "3o7x-DmDI-oe"
      }
    },
    {
      "cell_type": "code",
      "source": [
        "# Select only V1–V28 features\n",
        "v_features = df.iloc[:, 1:29]  # Exclude Time and Amount\n",
        "\n",
        "# Compute correlation matrix\n",
        "corr_matrix = v_features.corr()\n",
        "\n",
        "# Plot heatmap\n",
        "plt.figure(figsize=(16, 12))\n",
        "sns.heatmap(corr_matrix, cmap='coolwarm_r', annot=False, linewidths=0.5)\n",
        "plt.title('Correlation Heatmap of Features V1–V28')\n",
        "plt.show()\n"
      ],
      "metadata": {
        "colab": {
          "base_uri": "https://localhost:8080/",
          "height": 1000
        },
        "id": "gjdbz9OKJAkg",
        "outputId": "f47b7e22-7095-4b5a-8568-cbc7dbbb54c6"
      },
      "execution_count": 9,
      "outputs": [
        {
          "output_type": "display_data",
          "data": {
            "text/plain": [
              "<Figure size 1600x1200 with 2 Axes>"
            ],
            "image/png": "[encoded data removed]"
          },
          "metadata": {}
        }
      ]
    },
    {
      "cell_type": "markdown",
      "source": [
        "# 2. Data Preprocessing\n"
      ],
      "metadata": {
        "id": "HV40yTULLB3i"
      }
    },
    {
      "cell_type": "code",
      "source": [
        "# Copy of the original dataset\n",
        "data = df.copy()"
      ],
      "metadata": {
        "id": "s5fsHqTpJdIN"
      },
      "execution_count": 10,
      "outputs": []
    },
    {
      "cell_type": "markdown",
      "source": [
        "📏 Scale 'Amount' and 'Time'"
      ],
      "metadata": {
        "id": "uFVeVSX7JmJ_"
      }
    },
    {
      "cell_type": "code",
      "source": [
        "scaler = StandardScaler()\n",
        "\n",
        "# Scale Amount and Time\n",
        "data['scaled_amount'] = scaler.fit_transform(data[['Amount']])\n",
        "data['scaled_time'] = scaler.fit_transform(data[['Time']])\n",
        "\n",
        "# Drop original columns\n",
        "data.drop(['Amount', 'Time'], axis=1, inplace=True)"
      ],
      "metadata": {
        "id": "_xDk2PagJnJ4"
      },
      "execution_count": 11,
      "outputs": []
    },
    {
      "cell_type": "markdown",
      "source": [
        "🕒 Feature Engineering: Time-based Features (hour, day_night)"
      ],
      "metadata": {
        "id": "hZ6a3YVUJwMq"
      }
    },
    {
      "cell_type": "code",
      "source": [
        "# Original 'Time' column was in seconds since first transaction\n",
        "# Let's recreate it for hour-of-day feature engineering (0–24h cycles)\n",
        "df_time = df.copy()\n",
        "df_time['Hour'] = (df_time['Time'] // 3600) % 24\n",
        "\n",
        "# Merge back hour into processed dataset\n",
        "data['Hour'] = df_time['Hour']\n",
        "\n",
        "# Day/Night feature\n",
        "def get_day_night(hour):\n",
        "    if 6 <= hour < 18:\n",
        "        return 'day'\n",
        "    else:\n",
        "        return 'night'\n",
        "\n",
        "data['day_night'] = data['Hour'].apply(get_day_night)\n",
        "\n",
        "# Encode day_night as binary\n",
        "data['day_night'] = data['day_night'].map({'day': 0, 'night': 1})\n"
      ],
      "metadata": {
        "id": "xbBz598dJrK4"
      },
      "execution_count": 12,
      "outputs": []
    },
    {
      "cell_type": "markdown",
      "source": [
        "⚖️ Handle Class Imbalance with SMOTE / ADASYN"
      ],
      "metadata": {
        "id": "Fd3GyrufJ57A"
      }
    },
    {
      "cell_type": "code",
      "source": [
        "from sklearn.model_selection import train_test_split\n",
        "\n",
        "# Separate features and labels\n",
        "X = data.drop('Class', axis=1)\n",
        "y = data['Class']\n",
        "\n",
        "# Train-test split before applying SMOTE\n",
        "X_train, X_test, y_train, y_test = train_test_split(X, y, test_size=0.2, stratify=y, random_state=42)\n",
        "\n",
        "# Apply SMOTE\n",
        "smote = SMOTE(random_state=42, k_neighbors=1)\n",
        "X_train_sm, y_train_sm = smote.fit_resample(X_train, y_train)\n",
        "\n",
        "# Optionally use ADASYN instead of SMOTE\n",
        "# adasyn = ADASYN(random_state=42)\n",
        "# X_train_sm, y_train_sm = adasyn.fit_resample(X_train, y_train)\n",
        "\n",
        "# Check class distribution after resampling\n",
        "print(\"Before SMOTE:\", y_train.value_counts())\n",
        "print(\"After SMOTE:\", pd.Series(y_train_sm).value_counts())\n"
      ],
      "metadata": {
        "colab": {
          "base_uri": "https://localhost:8080/"
        },
        "id": "ZM5vlr-ZEZyP",
        "outputId": "4bcfbdfb-d51e-4e2f-d203-9b7517c27b10"
      },
      "execution_count": 45,
      "outputs": [
        {
          "output_type": "stream",
          "name": "stdout",
          "text": [
            "Before SMOTE: Class\n",
            "0.0    25342\n",
            "1.0       82\n",
            "Name: count, dtype: int64\n",
            "After SMOTE: Class\n",
            "0.0    25342\n",
            "1.0    25342\n",
            "Name: count, dtype: int64\n"
          ]
        }
      ]
    },
    {
      "cell_type": "markdown",
      "source": [
        "#3. Baseline Models\n"
      ],
      "metadata": {
        "id": "Au9weDATLl8b"
      }
    },
    {
      "cell_type": "code",
      "source": [
        "# Import libraries\n",
        "from sklearn.linear_model import LogisticRegression\n",
        "from sklearn.tree import DecisionTreeClassifier\n",
        "from sklearn.metrics import accuracy_score, confusion_matrix, classification_report\n",
        "from sklearn.model_selection import train_test_split\n",
        "from sklearn.datasets import make_classification\n",
        "\n",
        "# 1. Load or create dataset (demo dataset for binary classification)\n",
        "X, y = make_classification(n_samples=1000, n_features=32, n_classes=2,\n",
        "                           weights=[0.7, 0.3], random_state=42)\n",
        "\n",
        "# 2. Split the dataset\n",
        "X_train, X_test, y_train, y_test = train_test_split(X, y, test_size=0.2, random_state=42)\n",
        "\n",
        "# -----------------------------------\n",
        "# 3A. Logistic Regression Model\n",
        "# -----------------------------------\n",
        "log_model = LogisticRegression()\n",
        "log_model.fit(X_train, y_train)\n",
        "y_pred_log = log_model.predict(X_test)\n",
        "\n",
        "print(\"🔹 Logistic Regression Results:\")\n",
        "print(\"Accuracy:\", accuracy_score(y_test, y_pred_log))\n",
        "print(\"Confusion Matrix:\\n\", confusion_matrix(y_test, y_pred_log))\n",
        "print(\"Classification Report:\\n\", classification_report(y_test, y_pred_log))\n",
        "\n",
        "# -----------------------------------\n",
        "# 3B. Decision Tree Model\n",
        "# -----------------------------------\n",
        "tree_model = DecisionTreeClassifier(random_state=42)\n",
        "tree_model.fit(X_train, y_train)\n",
        "y_pred_tree = tree_model.predict(X_test)\n",
        "\n",
        "print(\"\\n🔹 Decision Tree Results:\")\n",
        "print(\"Accuracy:\", accuracy_score(y_test, y_pred_tree))\n",
        "print(\"Confusion Matrix:\\n\", confusion_matrix(y_test, y_pred_tree))\n",
        "print(\"Classification Report:\\n\", classification_report(y_test, y_pred_tree))\n"
      ],
      "metadata": {
        "colab": {
          "base_uri": "https://localhost:8080/"
        },
        "id": "SmJpr_1_Kpey",
        "outputId": "d9d34e52-eaa2-469f-d103-0c78ca267348"
      },
      "execution_count": 46,
      "outputs": [
        {
          "output_type": "stream",
          "name": "stdout",
          "text": [
            "🔹 Logistic Regression Results:\n",
            "Accuracy: 0.835\n",
            "Confusion Matrix:\n",
            " [[122  12]\n",
            " [ 21  45]]\n",
            "Classification Report:\n",
            "               precision    recall  f1-score   support\n",
            "\n",
            "           0       0.85      0.91      0.88       134\n",
            "           1       0.79      0.68      0.73        66\n",
            "\n",
            "    accuracy                           0.83       200\n",
            "   macro avg       0.82      0.80      0.81       200\n",
            "weighted avg       0.83      0.83      0.83       200\n",
            "\n",
            "\n",
            "🔹 Decision Tree Results:\n",
            "Accuracy: 0.865\n",
            "Confusion Matrix:\n",
            " [[125   9]\n",
            " [ 18  48]]\n",
            "Classification Report:\n",
            "               precision    recall  f1-score   support\n",
            "\n",
            "           0       0.87      0.93      0.90       134\n",
            "           1       0.84      0.73      0.78        66\n",
            "\n",
            "    accuracy                           0.86       200\n",
            "   macro avg       0.86      0.83      0.84       200\n",
            "weighted avg       0.86      0.86      0.86       200\n",
            "\n"
          ]
        }
      ]
    },
    {
      "cell_type": "code",
      "source": [
        "from sklearn.ensemble import RandomForestClassifier, StackingClassifier\n",
        "from sklearn.model_selection import RandomizedSearchCV\n",
        "from sklearn.metrics import classification_report, roc_auc_score, confusion_matrix\n",
        "from xgboost import XGBClassifier\n",
        "from lightgbm import LGBMClassifier\n",
        "from sklearn.linear_model import LogisticRegression\n",
        "from sklearn.svm import SVC\n",
        "import warnings\n",
        "warnings.filterwarnings('ignore')\n",
        "from sklearn.preprocessing import PolynomialFeatures\n",
        "from sklearn.model_selection import train_test_split, GridSearchCV\n"
      ],
      "metadata": {
        "id": "5EYRkVKqkOgL"
      },
      "execution_count": 47,
      "outputs": []
    },
    {
      "cell_type": "markdown",
      "source": [
        "🌲 Random Forest with RandomizedSearchCV"
      ],
      "metadata": {
        "id": "KsD5D71QkxqV"
      }
    },
    {
      "cell_type": "code",
      "source": [
        "print(X.shape)  # rows, columns (features)\n"
      ],
      "metadata": {
        "colab": {
          "base_uri": "https://localhost:8080/"
        },
        "id": "YT-Spf_uCFZH",
        "outputId": "76f0e1bc-b033-4a7d-c490-c577f66501d2"
      },
      "execution_count": 48,
      "outputs": [
        {
          "output_type": "stream",
          "name": "stdout",
          "text": [
            "(1000, 32)\n"
          ]
        }
      ]
    },
    {
      "cell_type": "code",
      "source": [
        "# Set up Random Forest with RandomizedSearchCV\n",
        "rf_params = {\n",
        "    'n_estimators': [100, 200],\n",
        "    'max_depth': [10, None],\n",
        "    'min_samples_split': [2, 5],\n",
        "    'min_samples_leaf': [1, 2],\n",
        "    'bootstrap': [True]\n",
        "}\n",
        "\n",
        "rf = RandomForestClassifier(random_state=42, n_jobs=-1)\n",
        "\n",
        "rf_random = RandomizedSearchCV(estimator=rf,\n",
        "                               param_distributions=rf_params,\n",
        "                               scoring='roc_auc',\n",
        "                               cv=2,\n",
        "                               n_iter=5,\n",
        "                               verbose=1,\n",
        "                               n_jobs=-1,\n",
        "                               random_state=42)\n",
        "\n",
        "# Train\n",
        "rf_random.fit(X_train_sm, y_train_sm)\n",
        "rf_best = rf_random.best_estimator_\n",
        "\n",
        "# Evaluate\n",
        "y_pred_rf = rf_best.predict(X_test)\n",
        "print(\"Random Forest Classification Report:\")\n",
        "print(classification_report(y_test, y_pred_rf))\n",
        "print(\"ROC-AUC Score:\", roc_auc_score(y_test, rf_best.predict_proba(X_test)[:, 1]))"
      ],
      "metadata": {
        "colab": {
          "base_uri": "https://localhost:8080/"
        },
        "id": "Uk24G31tkzu2",
        "outputId": "a92902ab-c44e-4256-b6c3-c1dc00f7e270"
      },
      "execution_count": 49,
      "outputs": [
        {
          "output_type": "stream",
          "name": "stdout",
          "text": [
            "Fitting 2 folds for each of 5 candidates, totalling 10 fits\n",
            "Random Forest Classification Report:\n",
            "              precision    recall  f1-score   support\n",
            "\n",
            "           0       0.67      1.00      0.80       134\n",
            "           1       0.00      0.00      0.00        66\n",
            "\n",
            "    accuracy                           0.67       200\n",
            "   macro avg       0.34      0.50      0.40       200\n",
            "weighted avg       0.45      0.67      0.54       200\n",
            "\n",
            "ROC-AUC Score: 0.521935775667119\n"
          ]
        }
      ]
    },
    {
      "cell_type": "markdown",
      "source": [
        "🚀 XGBoost with scale_pos_weight"
      ],
      "metadata": {
        "id": "W32N6Y_2lHwo"
      }
    },
    {
      "cell_type": "code",
      "source": [
        "# Compute scale_pos_weight\n",
        "scale_pos_weight = len(y_train_sm[y_train_sm == 0]) / len(y_train_sm[y_train_sm == 1])\n",
        "\n",
        "xgb = XGBClassifier(use_label_encoder=False, eval_metric='logloss',\n",
        "                    scale_pos_weight=scale_pos_weight, random_state=42)\n",
        "xgb.fit(X_train_sm, y_train_sm)\n",
        "\n",
        "y_pred_xgb = xgb.predict(X_test)\n",
        "print(\"XGBoost Classification Report:\")\n",
        "print(classification_report(y_test, y_pred_xgb))\n",
        "print(\"ROC-AUC Score:\", roc_auc_score(y_test, xgb.predict_proba(X_test)[:, 1]))\n"
      ],
      "metadata": {
        "id": "ULKgZodylDqN",
        "colab": {
          "base_uri": "https://localhost:8080/"
        },
        "outputId": "58013c40-6a15-4d91-8277-d134d2ec071a"
      },
      "execution_count": 50,
      "outputs": [
        {
          "output_type": "stream",
          "name": "stdout",
          "text": [
            "XGBoost Classification Report:\n",
            "              precision    recall  f1-score   support\n",
            "\n",
            "           0       0.67      1.00      0.80       134\n",
            "           1       0.00      0.00      0.00        66\n",
            "\n",
            "    accuracy                           0.67       200\n",
            "   macro avg       0.34      0.50      0.40       200\n",
            "weighted avg       0.45      0.67      0.54       200\n",
            "\n",
            "ROC-AUC Score: 0.6451831750339213\n"
          ]
        }
      ]
    },
    {
      "cell_type": "markdown",
      "source": [
        "💡 LightGBM with scale_pos_weight"
      ],
      "metadata": {
        "id": "AXPhdbdflNYF"
      }
    },
    {
      "cell_type": "code",
      "source": [
        "lgbm = LGBMClassifier(scale_pos_weight=scale_pos_weight, random_state=42)\n",
        "lgbm.fit(X_train_sm, y_train_sm)\n",
        "\n",
        "y_pred_lgb = lgbm.predict(X_test)\n",
        "print(\"LightGBM Classification Report:\")\n",
        "print(classification_report(y_test, y_pred_lgb))\n",
        "print(\"ROC-AUC Score:\", roc_auc_score(y_test, lgbm.predict_proba(X_test)[:, 1]))\n"
      ],
      "metadata": {
        "id": "Y8G24QctlOXC",
        "colab": {
          "base_uri": "https://localhost:8080/"
        },
        "outputId": "3b1a0b54-57e5-4928-a633-324830614d59"
      },
      "execution_count": 51,
      "outputs": [
        {
          "output_type": "stream",
          "name": "stdout",
          "text": [
            "[LightGBM] [Info] Number of positive: 25342, number of negative: 25342\n",
            "[LightGBM] [Info] Auto-choosing col-wise multi-threading, the overhead of testing was 0.018010 seconds.\n",
            "You can set `force_col_wise=true` to remove the overhead.\n",
            "[LightGBM] [Info] Total Bins 7663\n",
            "[LightGBM] [Info] Number of data points in the train set: 50684, number of used features: 32\n",
            "[LightGBM] [Info] [binary:BoostFromScore]: pavg=0.500000 -> initscore=0.000000\n",
            "LightGBM Classification Report:\n",
            "              precision    recall  f1-score   support\n",
            "\n",
            "           0       0.67      1.00      0.80       134\n",
            "           1       0.00      0.00      0.00        66\n",
            "\n",
            "    accuracy                           0.67       200\n",
            "   macro avg       0.34      0.50      0.40       200\n",
            "weighted avg       0.45      0.67      0.54       200\n",
            "\n",
            "ROC-AUC Score: 0.4202849389416555\n"
          ]
        }
      ]
    },
    {
      "cell_type": "markdown",
      "source": [
        "🔗 Stacking Classifier"
      ],
      "metadata": {
        "id": "Hb_ACqZ58X4-"
      }
    },
    {
      "cell_type": "code",
      "source": [
        "# Define base models\n",
        "base_models = [\n",
        "    ('rf', rf_best),\n",
        "    ('xgb', xgb),\n",
        "    ('lgbm', lgbm)\n",
        "]\n",
        "\n",
        "# Use Logistic Regression as meta-learner\n",
        "stacking_model = StackingClassifier(\n",
        "    estimators=base_models,\n",
        "    final_estimator=LogisticRegression(),\n",
        "    cv=3,\n",
        "    n_jobs=-1\n",
        ")\n",
        "\n",
        "stacking_model.fit(X_train_sm, y_train_sm)\n",
        "\n",
        "# Evaluate\n",
        "y_pred_stack = stacking_model.predict(X_test)\n",
        "print(\"Stacking Classifier Report:\")\n",
        "print(classification_report(y_test, y_pred_stack))\n",
        "print(\"ROC-AUC Score:\", roc_auc_score(y_test, stacking_model.predict_proba(X_test)[:, 1]))\n"
      ],
      "metadata": {
        "colab": {
          "base_uri": "https://localhost:8080/"
        },
        "id": "akHG9ZGp8ZVo",
        "outputId": "0fa4ef1c-d392-4fd5-eb94-d246fe62f80f"
      },
      "execution_count": 52,
      "outputs": [
        {
          "output_type": "stream",
          "name": "stdout",
          "text": [
            "Stacking Classifier Report:\n",
            "              precision    recall  f1-score   support\n",
            "\n",
            "           0       0.67      1.00      0.80       134\n",
            "           1       0.00      0.00      0.00        66\n",
            "\n",
            "    accuracy                           0.67       200\n",
            "   macro avg       0.34      0.50      0.40       200\n",
            "weighted avg       0.45      0.67      0.54       200\n",
            "\n",
            "ROC-AUC Score: 0.5580054274084124\n"
          ]
        }
      ]
    },
    {
      "cell_type": "markdown",
      "source": [
        "🛠 LSTM Setup"
      ],
      "metadata": {
        "id": "G8Hol_ZIHs4u"
      }
    },
    {
      "cell_type": "code",
      "source": [
        "import tensorflow as tf\n",
        "from sklearn.preprocessing import MinMaxScaler\n",
        "from tensorflow.keras.models import Sequential\n",
        "from tensorflow.keras.layers import LSTM, Dense, Dropout\n",
        "from sklearn.model_selection import train_test_split\n",
        "from sklearn.metrics import classification_report\n",
        "\n",
        "# Normalize data using MinMaxScaler\n",
        "scaler = MinMaxScaler()\n",
        "X_scaled = scaler.fit_transform(X)\n",
        "\n",
        "# Reshape data for LSTM (samples, timesteps, features)\n",
        "X_lstm = X_scaled.reshape((X_scaled.shape[0], 1, X_scaled.shape[1]))\n",
        "\n",
        "# Train-test split\n",
        "X_train_lstm, X_test_lstm, y_train_lstm, y_test_lstm = train_test_split(\n",
        "    X_lstm, y, test_size=0.2, stratify=y, random_state=42\n",
        ")\n",
        "\n",
        "# Build LSTM model\n",
        "model = Sequential()\n",
        "model.add(LSTM(64, input_shape=(X_lstm.shape[1], X_lstm.shape[2]), return_sequences=True))\n",
        "model.add(Dropout(0.2))  # Dropout layer for regularization\n",
        "model.add(LSTM(32))\n",
        "model.add(Dense(1, activation='sigmoid'))\n",
        "\n",
        "# Compile the model\n",
        "model.compile(optimizer='adam', loss='binary_crossentropy', metrics=['accuracy'])\n",
        "\n",
        "# Train the model\n",
        "model.fit(X_train_lstm, y_train_lstm, epochs=5, batch_size=64, validation_split=0.2, verbose=1)\n",
        "\n",
        "# Evaluate the model\n",
        "y_pred_lstm = model.predict(X_test_lstm)\n",
        "y_pred_lstm = (y_pred_lstm > 0.5).astype(int)\n",
        "\n",
        "# Print the classification report\n",
        "print(classification_report(y_test_lstm, y_pred_lstm))\n"
      ],
      "metadata": {
        "colab": {
          "base_uri": "https://localhost:8080/"
        },
        "id": "LtDl6FyNHlDn",
        "outputId": "4ca3ede3-0b80-4201-c373-f4054eb8f671"
      },
      "execution_count": 53,
      "outputs": [
        {
          "output_type": "stream",
          "name": "stdout",
          "text": [
            "Epoch 1/5\n",
            "\u001b[1m10/10\u001b[0m \u001b[32m━━━━━━━━━━━━━━━━━━━━\u001b[0m\u001b[37m\u001b[0m \u001b[1m4s\u001b[0m 66ms/step - accuracy: 0.6118 - loss: 0.6855 - val_accuracy: 0.6687 - val_loss: 0.6668\n",
            "Epoch 2/5\n",
            "\u001b[1m10/10\u001b[0m \u001b[32m━━━━━━━━━━━━━━━━━━━━\u001b[0m\u001b[37m\u001b[0m \u001b[1m1s\u001b[0m 11ms/step - accuracy: 0.7319 - loss: 0.6457 - val_accuracy: 0.6687 - val_loss: 0.6401\n",
            "Epoch 3/5\n",
            "\u001b[1m10/10\u001b[0m \u001b[32m━━━━━━━━━━━━━━━━━━━━\u001b[0m\u001b[37m\u001b[0m \u001b[1m0s\u001b[0m 10ms/step - accuracy: 0.6956 - loss: 0.6210 - val_accuracy: 0.6687 - val_loss: 0.6347\n",
            "Epoch 4/5\n",
            "\u001b[1m10/10\u001b[0m \u001b[32m━━━━━━━━━━━━━━━━━━━━\u001b[0m\u001b[37m\u001b[0m \u001b[1m0s\u001b[0m 11ms/step - accuracy: 0.7140 - loss: 0.5965 - val_accuracy: 0.6687 - val_loss: 0.6424\n",
            "Epoch 5/5\n",
            "\u001b[1m10/10\u001b[0m \u001b[32m━━━━━━━━━━━━━━━━━━━━\u001b[0m\u001b[37m\u001b[0m \u001b[1m0s\u001b[0m 10ms/step - accuracy: 0.7076 - loss: 0.5999 - val_accuracy: 0.6687 - val_loss: 0.6296\n",
            "\u001b[1m7/7\u001b[0m \u001b[32m━━━━━━━━━━━━━━━━━━━━\u001b[0m\u001b[37m\u001b[0m \u001b[1m1s\u001b[0m 55ms/step\n",
            "              precision    recall  f1-score   support\n",
            "\n",
            "           0       0.70      1.00      0.82       140\n",
            "           1       0.00      0.00      0.00        60\n",
            "\n",
            "    accuracy                           0.70       200\n",
            "   macro avg       0.35      0.50      0.41       200\n",
            "weighted avg       0.49      0.70      0.58       200\n",
            "\n"
          ]
        }
      ]
    },
    {
      "cell_type": "markdown",
      "source": [
        "2) RNN (Vanilla Recurrent Neural Network)"
      ],
      "metadata": {
        "id": "FNBk1b1JHxji"
      }
    },
    {
      "cell_type": "code",
      "source": [
        "from tensorflow.keras.layers import SimpleRNN\n",
        "\n",
        "# Build a basic RNN model\n",
        "model_rnn = Sequential()\n",
        "model_rnn.add(SimpleRNN(64, input_shape=(X_lstm.shape[1], X_lstm.shape[2])))\n",
        "model_rnn.add(Dense(1, activation='sigmoid'))\n",
        "\n",
        "# Compile the model\n",
        "model_rnn.compile(optimizer='adam', loss='binary_crossentropy', metrics=['accuracy'])\n",
        "\n",
        "# Train the model\n",
        "model_rnn.fit(X_train_lstm, y_train_lstm, epochs=5, batch_size=64)\n",
        "\n",
        "# Evaluate the model\n",
        "y_pred_rnn = model_rnn.predict(X_test_lstm)\n",
        "y_pred_rnn = (y_pred_rnn > 0.5).astype(int)\n",
        "\n",
        "# Print the classification report\n",
        "print(classification_report(y_test_lstm, y_pred_rnn))\n"
      ],
      "metadata": {
        "colab": {
          "base_uri": "https://localhost:8080/"
        },
        "id": "hAiHPeZaHuio",
        "outputId": "7afa5c0d-13b6-41ed-978c-ed1c21e72412"
      },
      "execution_count": 54,
      "outputs": [
        {
          "output_type": "stream",
          "name": "stdout",
          "text": [
            "Epoch 1/5\n",
            "\u001b[1m13/13\u001b[0m \u001b[32m━━━━━━━━━━━━━━━━━━━━\u001b[0m\u001b[37m\u001b[0m \u001b[1m8s\u001b[0m 6ms/step - accuracy: 0.4157 - loss: 0.7761 \n",
            "Epoch 2/5\n",
            "\u001b[1m13/13\u001b[0m \u001b[32m━━━━━━━━━━━━━━━━━━━━\u001b[0m\u001b[37m\u001b[0m \u001b[1m0s\u001b[0m 6ms/step - accuracy: 0.7158 - loss: 0.6300 \n",
            "Epoch 3/5\n",
            "\u001b[1m13/13\u001b[0m \u001b[32m━━━━━━━━━━━━━━━━━━━━\u001b[0m\u001b[37m\u001b[0m \u001b[1m0s\u001b[0m 8ms/step - accuracy: 0.7009 - loss: 0.6352 \n",
            "Epoch 4/5\n",
            "\u001b[1m13/13\u001b[0m \u001b[32m━━━━━━━━━━━━━━━━━━━━\u001b[0m\u001b[37m\u001b[0m \u001b[1m0s\u001b[0m 7ms/step - accuracy: 0.6966 - loss: 0.6211  \n",
            "Epoch 5/5\n",
            "\u001b[1m13/13\u001b[0m \u001b[32m━━━━━━━━━━━━━━━━━━━━\u001b[0m\u001b[37m\u001b[0m \u001b[1m0s\u001b[0m 7ms/step - accuracy: 0.7069 - loss: 0.5995 \n",
            "\u001b[1m7/7\u001b[0m \u001b[32m━━━━━━━━━━━━━━━━━━━━\u001b[0m\u001b[37m\u001b[0m \u001b[1m0s\u001b[0m 49ms/step\n",
            "              precision    recall  f1-score   support\n",
            "\n",
            "           0       0.70      1.00      0.82       140\n",
            "           1       0.00      0.00      0.00        60\n",
            "\n",
            "    accuracy                           0.70       200\n",
            "   macro avg       0.35      0.50      0.41       200\n",
            "weighted avg       0.49      0.70      0.58       200\n",
            "\n"
          ]
        }
      ]
    },
    {
      "cell_type": "markdown",
      "source": [
        "3) GAN (Generative Adversarial Network) for Fraud Detection"
      ],
      "metadata": {
        "id": "3kq71jXUH1yU"
      }
    },
    {
      "cell_type": "code",
      "source": [
        "from tensorflow.keras.layers import Input, Dense\n",
        "from tensorflow.keras.models import Model\n",
        "\n",
        "# Build Generator\n",
        "def build_generator(input_dim):\n",
        "    input_gen = Input(shape=(input_dim,))\n",
        "    x = Dense(64, activation='relu')(input_gen)\n",
        "    x = Dense(128, activation='relu')(x)\n",
        "    output = Dense(input_dim, activation='tanh')(x)\n",
        "    return Model(inputs=input_gen, outputs=output)\n",
        "\n",
        "# Build Discriminator\n",
        "def build_discriminator(input_dim):\n",
        "    input_disc = Input(shape=(input_dim,))\n",
        "    x = Dense(128, activation='relu')(input_disc)\n",
        "    x = Dense(64, activation='relu')(x)\n",
        "    output = Dense(1, activation='sigmoid')(x)\n",
        "    return Model(inputs=input_disc, outputs=output)\n",
        "\n",
        "# Compile GAN\n",
        "input_dim = X_scaled.shape[1]  # Number of features\n",
        "generator = build_generator(input_dim)\n",
        "discriminator = build_discriminator(input_dim)\n",
        "\n",
        "discriminator.compile(optimizer='adam', loss='binary_crossentropy', metrics=['accuracy'])\n",
        "\n",
        "# GAN = Generator + Discriminator\n",
        "discriminator.trainable = False\n",
        "gan_input = Input(shape=(input_dim,))\n",
        "fake_data = generator(gan_input)\n",
        "gan_output = discriminator(fake_data)\n",
        "gan = Model(inputs=gan_input, outputs=gan_output)\n",
        "gan.compile(optimizer='adam', loss='binary_crossentropy')\n",
        "\n",
        "# Train GAN on normal transactions only\n",
        "normal_data = X_scaled[y == 0]\n",
        "for epoch in range(10):\n",
        "    # Sample real transactions\n",
        "    idx = np.random.randint(0, normal_data.shape[0], 128)\n",
        "    real = normal_data[idx]\n",
        "\n",
        "    # Generate fake transactions\n",
        "    noise = np.random.normal(0, 1, (128, input_dim))\n",
        "    fake = generator.predict(noise)\n",
        "\n",
        "    # Train discriminator\n",
        "    d_loss_real = discriminator.train_on_batch(real, np.ones((128, 1)))  # Label real as 1\n",
        "    d_loss_fake = discriminator.train_on_batch(fake, np.zeros((128, 1)))  # Label fake as 0\n",
        "\n",
        "    # Train generator\n",
        "    g_loss = gan.train_on_batch(noise, np.ones((128, 1)))  # Aim for generator to create real-looking data\n",
        "\n",
        "# Evaluate the GAN (Use discriminator's uncertainty to detect fraud)\n"
      ],
      "metadata": {
        "colab": {
          "base_uri": "https://localhost:8080/"
        },
        "id": "JW0XivHgIG6L",
        "outputId": "7f3397f3-97c1-4379-8b16-7958103a65f3"
      },
      "execution_count": 57,
      "outputs": [
        {
          "output_type": "stream",
          "name": "stdout",
          "text": [
            "\u001b[1m4/4\u001b[0m \u001b[32m━━━━━━━━━━━━━━━━━━━━\u001b[0m\u001b[37m\u001b[0m \u001b[1m0s\u001b[0m 11ms/step\n",
            "\u001b[1m4/4\u001b[0m \u001b[32m━━━━━━━━━━━━━━━━━━━━\u001b[0m\u001b[37m\u001b[0m \u001b[1m0s\u001b[0m 7ms/step \n",
            "\u001b[1m4/4\u001b[0m \u001b[32m━━━━━━━━━━━━━━━━━━━━\u001b[0m\u001b[37m\u001b[0m \u001b[1m0s\u001b[0m 7ms/step \n",
            "\u001b[1m4/4\u001b[0m \u001b[32m━━━━━━━━━━━━━━━━━━━━\u001b[0m\u001b[37m\u001b[0m \u001b[1m0s\u001b[0m 7ms/step \n",
            "\u001b[1m4/4\u001b[0m \u001b[32m━━━━━━━━━━━━━━━━━━━━\u001b[0m\u001b[37m\u001b[0m \u001b[1m0s\u001b[0m 7ms/step \n",
            "\u001b[1m4/4\u001b[0m \u001b[32m━━━━━━━━━━━━━━━━━━━━\u001b[0m\u001b[37m\u001b[0m \u001b[1m0s\u001b[0m 7ms/step \n",
            "\u001b[1m4/4\u001b[0m \u001b[32m━━━━━━━━━━━━━━━━━━━━\u001b[0m\u001b[37m\u001b[0m \u001b[1m0s\u001b[0m 8ms/step \n",
            "\u001b[1m4/4\u001b[0m \u001b[32m━━━━━━━━━━━━━━━━━━━━\u001b[0m\u001b[37m\u001b[0m \u001b[1m0s\u001b[0m 7ms/step \n",
            "\u001b[1m4/4\u001b[0m \u001b[32m━━━━━━━━━━━━━━━━━━━━\u001b[0m\u001b[37m\u001b[0m \u001b[1m0s\u001b[0m 7ms/step \n",
            "\u001b[1m4/4\u001b[0m \u001b[32m━━━━━━━━━━━━━━━━━━━━\u001b[0m\u001b[37m\u001b[0m \u001b[1m0s\u001b[0m 7ms/step \n"
          ]
        }
      ]
    },
    {
      "cell_type": "code",
      "source": [
        "y_pred = (model.predict(X_test) > 0.5).astype(int)\n"
      ],
      "metadata": {
        "colab": {
          "base_uri": "https://localhost:8080/",
          "height": 428
        },
        "id": "7KNDbednJC4i",
        "outputId": "ed0d8d6d-5478-4f71-b470-9d59f34ddba8"
      },
      "execution_count": 60,
      "outputs": [
        {
          "output_type": "error",
          "ename": "ValueError",
          "evalue": "Exception encountered when calling Sequential.call().\n\n\u001b[1mCannot take the length of shape with unknown rank.\u001b[0m\n\nArguments received by Sequential.call():\n  • inputs=tf.Tensor(shape=<unknown>, dtype=float32)\n  • training=False\n  • mask=None",
          "traceback": [
            "\u001b[0;31m---------------------------------------------------------------------------\u001b[0m",
            "\u001b[0;31mValueError\u001b[0m                                Traceback (most recent call last)",
            "\u001b[0;32m<ipython-input-60-2729bb4f347b>\u001b[0m in \u001b[0;36m<cell line: 0>\u001b[0;34m()\u001b[0m\n\u001b[0;32m----> 1\u001b[0;31m \u001b[0my_pred\u001b[0m \u001b[0;34m=\u001b[0m \u001b[0;34m(\u001b[0m\u001b[0mmodel\u001b[0m\u001b[0;34m.\u001b[0m\u001b[0mpredict\u001b[0m\u001b[0;34m(\u001b[0m\u001b[0mX_test\u001b[0m\u001b[0;34m)\u001b[0m \u001b[0;34m>\u001b[0m \u001b[0;36m0.5\u001b[0m\u001b[0;34m)\u001b[0m\u001b[0;34m.\u001b[0m\u001b[0mastype\u001b[0m\u001b[0;34m(\u001b[0m\u001b[0mint\u001b[0m\u001b[0;34m)\u001b[0m\u001b[0;34m\u001b[0m\u001b[0;34m\u001b[0m\u001b[0m\n\u001b[0m",
            "\u001b[0;32m/usr/local/lib/python3.11/dist-packages/keras/src/utils/traceback_utils.py\u001b[0m in \u001b[0;36merror_handler\u001b[0;34m(*args, **kwargs)\u001b[0m\n\u001b[1;32m    120\u001b[0m             \u001b[0;31m# To get the full stack trace, call:\u001b[0m\u001b[0;34m\u001b[0m\u001b[0;34m\u001b[0m\u001b[0m\n\u001b[1;32m    121\u001b[0m             \u001b[0;31m# `keras.config.disable_traceback_filtering()`\u001b[0m\u001b[0;34m\u001b[0m\u001b[0;34m\u001b[0m\u001b[0m\n\u001b[0;32m--> 122\u001b[0;31m             \u001b[0;32mraise\u001b[0m \u001b[0me\u001b[0m\u001b[0;34m.\u001b[0m\u001b[0mwith_traceback\u001b[0m\u001b[0;34m(\u001b[0m\u001b[0mfiltered_tb\u001b[0m\u001b[0;34m)\u001b[0m \u001b[0;32mfrom\u001b[0m \u001b[0;32mNone\u001b[0m\u001b[0;34m\u001b[0m\u001b[0;34m\u001b[0m\u001b[0m\n\u001b[0m\u001b[1;32m    123\u001b[0m         \u001b[0;32mfinally\u001b[0m\u001b[0;34m:\u001b[0m\u001b[0;34m\u001b[0m\u001b[0;34m\u001b[0m\u001b[0m\n\u001b[1;32m    124\u001b[0m             \u001b[0;32mdel\u001b[0m \u001b[0mfiltered_tb\u001b[0m\u001b[0;34m\u001b[0m\u001b[0;34m\u001b[0m\u001b[0m\n",
            "\u001b[0;32m/usr/local/lib/python3.11/dist-packages/keras/src/utils/traceback_utils.py\u001b[0m in \u001b[0;36merror_handler\u001b[0;34m(*args, **kwargs)\u001b[0m\n\u001b[1;32m    122\u001b[0m             \u001b[0;32mraise\u001b[0m \u001b[0me\u001b[0m\u001b[0;34m.\u001b[0m\u001b[0mwith_traceback\u001b[0m\u001b[0;34m(\u001b[0m\u001b[0mfiltered_tb\u001b[0m\u001b[0;34m)\u001b[0m \u001b[0;32mfrom\u001b[0m \u001b[0;32mNone\u001b[0m\u001b[0;34m\u001b[0m\u001b[0;34m\u001b[0m\u001b[0m\n\u001b[1;32m    123\u001b[0m         \u001b[0;32mfinally\u001b[0m\u001b[0;34m:\u001b[0m\u001b[0;34m\u001b[0m\u001b[0;34m\u001b[0m\u001b[0m\n\u001b[0;32m--> 124\u001b[0;31m             \u001b[0;32mdel\u001b[0m \u001b[0mfiltered_tb\u001b[0m\u001b[0;34m\u001b[0m\u001b[0;34m\u001b[0m\u001b[0m\n\u001b[0m\u001b[1;32m    125\u001b[0m \u001b[0;34m\u001b[0m\u001b[0m\n\u001b[1;32m    126\u001b[0m     \u001b[0;32mreturn\u001b[0m \u001b[0merror_handler\u001b[0m\u001b[0;34m\u001b[0m\u001b[0;34m\u001b[0m\u001b[0m\n",
            "\u001b[0;31mValueError\u001b[0m: Exception encountered when calling Sequential.call().\n\n\u001b[1mCannot take the length of shape with unknown rank.\u001b[0m\n\nArguments received by Sequential.call():\n  • inputs=tf.Tensor(shape=<unknown>, dtype=float32)\n  • training=False\n  • mask=None"
          ]
        }
      ]
    },
    {
      "cell_type": "markdown",
      "source": [
        "📊 6. Model Evaluation\n"
      ],
      "metadata": {
        "id": "YV9F02gDIl1H"
      }
    },
    {
      "cell_type": "code",
      "source": [
        "from sklearn.metrics import classification_report, roc_auc_score\n",
        "\n",
        "models = {\n",
        "    \"RNN\": y_pred_rnn,\n",
        "    \"LSTM\": y_pred_lstm,\n",
        "    \"Logistic Regression\": y_pred_log,\n",
        "    \"Decision Tree\": y_pred_tree,\n",
        "    \"Random Forest\": y_pred_rf,\n",
        "    \"XGBoost\": y_pred_xgb,\n",
        "    \"LightGBM\": y_pred_lgb,\n",
        "    \"Stacked Model\": y_pred_stack\n",
        "}\n",
        "\n",
        "for name, preds in models.items():\n",
        "    print(f\"\\n{name} Classification Report:\")\n",
        "    print(classification_report(y_test, preds))\n",
        "    try:\n",
        "        auc = roc_auc_score(y_test, preds)\n",
        "        print(f\"AUC-ROC: {auc:.4f}\")\n",
        "    except:\n",
        "        print(\"AUC-ROC could not be computed.\")\n"
      ],
      "metadata": {
        "colab": {
          "base_uri": "https://localhost:8080/"
        },
        "id": "7368GSi6KJzz",
        "outputId": "a2e1a19c-8d8e-4b32-f1f9-9fc15cbea16e"
      },
      "execution_count": 66,
      "outputs": [
        {
          "output_type": "stream",
          "name": "stdout",
          "text": [
            "\n",
            "RNN Classification Report:\n",
            "              precision    recall  f1-score   support\n",
            "\n",
            "           0       0.67      1.00      0.80       134\n",
            "           1       0.00      0.00      0.00        66\n",
            "\n",
            "    accuracy                           0.67       200\n",
            "   macro avg       0.34      0.50      0.40       200\n",
            "weighted avg       0.45      0.67      0.54       200\n",
            "\n",
            "AUC-ROC: 0.5000\n",
            "\n",
            "LSTM Classification Report:\n",
            "              precision    recall  f1-score   support\n",
            "\n",
            "           0       0.67      1.00      0.80       134\n",
            "           1       0.00      0.00      0.00        66\n",
            "\n",
            "    accuracy                           0.67       200\n",
            "   macro avg       0.34      0.50      0.40       200\n",
            "weighted avg       0.45      0.67      0.54       200\n",
            "\n",
            "AUC-ROC: 0.5000\n",
            "\n",
            "Logistic Regression Classification Report:\n",
            "              precision    recall  f1-score   support\n",
            "\n",
            "           0       0.85      0.91      0.88       134\n",
            "           1       0.79      0.68      0.73        66\n",
            "\n",
            "    accuracy                           0.83       200\n",
            "   macro avg       0.82      0.80      0.81       200\n",
            "weighted avg       0.83      0.83      0.83       200\n",
            "\n",
            "AUC-ROC: 0.7961\n",
            "\n",
            "Decision Tree Classification Report:\n",
            "              precision    recall  f1-score   support\n",
            "\n",
            "           0       0.87      0.93      0.90       134\n",
            "           1       0.84      0.73      0.78        66\n",
            "\n",
            "    accuracy                           0.86       200\n",
            "   macro avg       0.86      0.83      0.84       200\n",
            "weighted avg       0.86      0.86      0.86       200\n",
            "\n",
            "AUC-ROC: 0.8301\n",
            "\n",
            "Random Forest Classification Report:\n",
            "              precision    recall  f1-score   support\n",
            "\n",
            "           0       0.67      1.00      0.80       134\n",
            "           1       0.00      0.00      0.00        66\n",
            "\n",
            "    accuracy                           0.67       200\n",
            "   macro avg       0.34      0.50      0.40       200\n",
            "weighted avg       0.45      0.67      0.54       200\n",
            "\n",
            "AUC-ROC: 0.5000\n",
            "\n",
            "XGBoost Classification Report:\n",
            "              precision    recall  f1-score   support\n",
            "\n",
            "           0       0.67      1.00      0.80       134\n",
            "           1       0.00      0.00      0.00        66\n",
            "\n",
            "    accuracy                           0.67       200\n",
            "   macro avg       0.34      0.50      0.40       200\n",
            "weighted avg       0.45      0.67      0.54       200\n",
            "\n",
            "AUC-ROC: 0.5000\n",
            "\n",
            "LightGBM Classification Report:\n",
            "              precision    recall  f1-score   support\n",
            "\n",
            "           0       0.67      1.00      0.80       134\n",
            "           1       0.00      0.00      0.00        66\n",
            "\n",
            "    accuracy                           0.67       200\n",
            "   macro avg       0.34      0.50      0.40       200\n",
            "weighted avg       0.45      0.67      0.54       200\n",
            "\n",
            "AUC-ROC: 0.5000\n",
            "\n",
            "Stacked Model Classification Report:\n",
            "              precision    recall  f1-score   support\n",
            "\n",
            "           0       0.67      1.00      0.80       134\n",
            "           1       0.00      0.00      0.00        66\n",
            "\n",
            "    accuracy                           0.67       200\n",
            "   macro avg       0.34      0.50      0.40       200\n",
            "weighted avg       0.45      0.67      0.54       200\n",
            "\n",
            "AUC-ROC: 0.5000\n"
          ]
        }
      ]
    },
    {
      "cell_type": "code",
      "source": [
        "from sklearn.metrics import classification_report, confusion_matrix, roc_auc_score, roc_curve, precision_recall_curve, auc\n",
        "import matplotlib.pyplot as plt\n",
        "import seaborn as sns\n",
        "\n",
        "# Example: After predicting with a model (e.g., Random Forest, XGBoost, LSTM)\n",
        "# y_pred = model.predict(X_test)\n",
        "# For deep learning models (LSTM, RNN), make sure to apply a threshold:\n",
        "# y_pred = (model.predict(X_test) > 0.5).astype(int)\n",
        "\n",
        "# Classification report (Precision, Recall, F1 Score)\n",
        "print(\"Classification Report:\")\n",
        "print(classification_report(y_test, y_pred))\n",
        "\n",
        "# Confusion Matrix\n",
        "conf_matrix = confusion_matrix(y_test, y_pred)\n",
        "print(\"\\nConfusion Matrix:\")\n",
        "print(conf_matrix)\n",
        "\n",
        "# Visualize the Confusion Matrix\n",
        "sns.heatmap(conf_matrix, annot=True, fmt='d', cmap='Blues', xticklabels=[\"No Fraud\", \"Fraud\"], yticklabels=[\"No Fraud\", \"Fraud\"])\n",
        "plt.xlabel('Predicted')\n",
        "plt.ylabel('Actual')\n",
        "plt.title('Confusion Matrix')\n",
        "plt.show()\n",
        "\n",
        "# AUC-ROC (Receiver Operating Characteristic)\n",
        "roc_auc = roc_auc_score(y_test, y_pred)\n",
        "fpr, tpr, thresholds = roc_curve(y_test, y_pred)\n",
        "print(f\"\\nAUC-ROC: {roc_auc:.2f}\")\n",
        "\n",
        "# Plot ROC curve\n",
        "plt.figure(figsize=(8, 6))\n",
        "plt.plot(fpr, tpr, label=f'AUC = {roc_auc:.2f}')\n",
        "plt.plot([0, 1], [0, 1], linestyle='--', color='gray')\n",
        "plt.xlabel('False Positive Rate')\n",
        "plt.ylabel('True Positive Rate')\n",
        "plt.title('ROC Curve')\n",
        "plt.legend(loc='lower right')\n",
        "plt.show()\n",
        "\n",
        "# PR AUC (Precision-Recall Area Under Curve)\n",
        "precision, recall, _ = precision_recall_curve(y_test, y_pred)\n",
        "pr_auc = auc(recall, precision)\n",
        "print(f\"\\nPR AUC: {pr_auc:.2f}\")\n",
        "\n",
        "# Plot Precision-Recall curve\n",
        "plt.figure(figsize=(8, 6))\n",
        "plt.plot(recall, precision, label=f'PR AUC = {pr_auc:.2f}')\n",
        "plt.xlabel('Recall')\n",
        "plt.ylabel('Precision')\n",
        "plt.title('Precision-Recall Curve')\n",
        "plt.legend(loc='lower left')\n",
        "plt.show()\n",
        "\n",
        "# F1 Score - already included in classification report\n"
      ],
      "metadata": {
        "colab": {
          "base_uri": "https://localhost:8080/",
          "height": 1000
        },
        "id": "ZlHqjMPwILjQ",
        "outputId": "68634d22-df38-41fc-fb48-eb2054da25d0"
      },
      "execution_count": 67,
      "outputs": [
        {
          "output_type": "stream",
          "name": "stdout",
          "text": [
            "Classification Report:\n",
            "              precision    recall  f1-score   support\n",
            "\n",
            "           0       0.67      1.00      0.80       134\n",
            "           1       0.00      0.00      0.00        66\n",
            "\n",
            "    accuracy                           0.67       200\n",
            "   macro avg       0.34      0.50      0.40       200\n",
            "weighted avg       0.45      0.67      0.54       200\n",
            "\n",
            "\n",
            "Confusion Matrix:\n",
            "[[134   0]\n",
            " [ 66   0]]\n"
          ]
        },
        {
          "output_type": "display_data",
          "data": {
            "text/plain": [
              "<Figure size 640x480 with 2 Axes>"
            ],
            "image/png": "[encoded data removed]"
          },
          "metadata": {}
        },
        {
          "output_type": "stream",
          "name": "stdout",
          "text": [
            "\n",
            "AUC-ROC: 0.50\n"
          ]
        },
        {
          "output_type": "display_data",
          "data": {
            "text/plain": [
              "<Figure size 800x600 with 1 Axes>"
            ],
            "image/png": "[encoded data removed]"
          },
          "metadata": {}
        },
        {
          "output_type": "stream",
          "name": "stdout",
          "text": [
            "\n",
            "PR AUC: 0.67\n"
          ]
        },
        {
          "output_type": "display_data",
          "data": {
            "text/plain": [
              "<Figure size 800x600 with 1 Axes>"
            ],
            "image/png": "[encoded data removed]"
          },
          "metadata": {}
        }
      ]
    },
    {
      "cell_type": "code",
      "source": [],
      "metadata": {
        "id": "d-sOoEAeKX3R"
      },
      "execution_count": null,
      "outputs": []
    }
  ]
}